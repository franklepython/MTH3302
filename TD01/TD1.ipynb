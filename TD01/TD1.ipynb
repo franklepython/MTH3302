{
 "cells": [
  {
   "cell_type": "markdown",
   "metadata": {},
   "source": [
    "# MTH3302 : Méthodes probabilistes et statistiques pour l'I.A.\n",
    "\n",
    "Jonathan Jalbert<br/>\n",
    "Professeur agrégé au Département de mathématiques et de génie industriel<br/>\n",
    "Polytechnique Montréal<br/>\n",
    "\n",
    "\n",
    "# TD1 - Introduction à Julia\n",
    "\n",
    "Ce TD constitue une introduction au langage Julia et au calepin Jupyter. L'Exercice 1 a pour but d'introduire les commandes de base de Julia et de la librairie *Distributions.jl* tandis que l'Exercice 2 a pour but d'introduire les DataFrames et la puissante librairie *Gadfly.jl*, similaire à *ggplot2* en *R*, pour la création de graphiques.\n",
    "\n",
    "Commençons par charger les librairies nécessaires. Si elles ne sont pas installées, vous pouvez le faire avec les commandes suivantes :\n",
    "\n",
    "```\n",
    "using Pkg\n",
    "Pkg.add([\"CSV\", \"DataFrames\" ,\"Distributions\", \"Gadfly\", \"Statistics\"])\n",
    "```"
   ]
  },
  {
   "cell_type": "code",
   "execution_count": null,
   "metadata": {},
   "outputs": [],
   "source": [
    "using CSV              # Pour charger les fichiers CSV\n",
    "using DataFrames       # Pour utiliser la structure DataFrame pour stocker les données\n",
    "using Distributions    # Pour utiliser les lois de probabilités classiques\n",
    "using Gadfly           # Pour tracer des graphiques\n",
    "using Statistics       # Pour les functions statistiques de base"
   ]
  },
  {
   "cell_type": "markdown",
   "metadata": {},
   "source": [
    "# Exercice 1\n",
    "\n",
    "Dans cet exercice, nous nous intéressons au problèmes du [collectionneur de vignettes](https://fr.wikipedia.org/wiki/Probl%C3%A8me_du_collectionneur_de_vignettes) - un problème classique en probabilités.\n",
    "\n",
    "## Description du problème\n",
    "\n",
    "La compagnie Kinder Surprise offre des friandises avec en bonus un jouet à l'intérieur. Le jouet fait partie d'une série de 8 jouets à collectionner. Les jouets sont disposés au hasard dans la friandise et on suppose qu'à chaque achat, les probabilités d'obtenir d'obtenir chacun des éléments de la collection sont équiprobables et indépendants.\n",
    "\n",
    "Un collectionneur veut obtenir tous les 8 jouets de la collection. On s'intéresse au nombre d'achats requis pour compléter la collection.\n",
    "\n",
    "## Modélisation mathématique\n",
    "\n",
    "Soit la variable aléatoire $T$, le nombre d'achats requis pour compléter la collection de taille $n$. Posons $T_i$, le nombre d'achats requis pour obtenir le $i^e$ élément de la collection lorsque l'on a déjà $(i-1)$ éléments de la collection. On a alors que\n",
    "\n",
    "$$ T = \\sum_{i=1}^n T_i. $$\n",
    "\n",
    "On peut montrer que\n",
    "\n",
    "$$T_i \\sim Géométrique( p_i )$$\n",
    "\n",
    "avec \n",
    "\n",
    "$$p_i = \\frac{n-i+1}{n}.$$\n",
    "\n",
    "\n",
    "## 1.1 Simulations Monte-Carlo\n",
    "\n",
    "Pour répondre aux questions de cet exercice, nous utiliserons une procédure Monte-Carlo qui consiste à simuler plusieurs réalisations de $T$ pour estimer les quantités d'intérêts.\n",
    "\n",
    "Voici les différentes étapes de la procédure Monte-Carlo :\n",
    "1. Simulation du nombre d'essais requis pour obtenir la $i^e$ nouvel item de la collection.\n",
    "2. Simulation du nombre d'essais requis pour obtenir la collection complète.\n",
    "\n",
    "\n",
    "\n",
    "\n",
    "Voici les différentes étapes qui nous permettrons d'étudier le problème :\n",
    "\n",
    "1. Simulation du nombre d'essais requis pour obtenir la $i^e$ nouvel item de la collection.\n",
    "2. Simulation du nombre d'essais requis pour obtenir la collection complète.\n",
    "3. Affichage du nombre d'essais requis pour 10 000 essais afin d'obtenir la collection complète.\n",
    "4. Estimation de la moyenne du nombre d'essais requis pour obtenir la collection complète.\n",
    "5. Estimation de la probabilité que 100 essais soit suffisants pour obtenir la collection complète."
   ]
  },
  {
   "cell_type": "markdown",
   "metadata": {},
   "source": [
    "### 1.1.1. Simulation du nombre d'essais requis pour obtenir le $i^e$ nouvel item\n",
    "\n",
    "Générez une réalisation possible du nombre d'essais requis pour obtenir le $i^e$ nouvel item d'une collection de $n$ éléments.\n",
    "\n",
    "Utilisez le constructeur `Geometric()` pour construire un objet de type loi géométrique pour ensuite utiliser la fonction `rand()`sur cet objet pour générer une réalisation."
   ]
  },
  {
   "cell_type": "code",
   "execution_count": 24,
   "metadata": {},
   "outputs": [],
   "source": [
    "n = 8 # Nombre d'éléments de la collection\n",
    "i = 7\n",
    "\n",
    "# TODO\n",
    "struct Geometric\n",
    "    p\n",
    "end\n",
    "\n"
   ]
  },
  {
   "cell_type": "markdown",
   "metadata": {},
   "source": [
    "Transformez le code précédent en fonction nommée *ntrial* qui prend en argument $i$ et la taille de collection $n$."
   ]
  },
  {
   "cell_type": "code",
   "execution_count": 25,
   "metadata": {},
   "outputs": [
    {
     "data": {
      "text/plain": [
       "ntrial (generic function with 1 method)"
      ]
     },
     "execution_count": 25,
     "metadata": {},
     "output_type": "execute_result"
    }
   ],
   "source": [
    "function ntrial(i::Int,n::Int)\n",
    "    @assert 0<i<=n # Vérification de la validité de i (facultatif)\n",
    "    p =  ((n-i) / n) + 1\n",
    "    #TODO\n",
    "    return rand(Geometric(p))\n",
    "end"
   ]
  },
  {
   "cell_type": "markdown",
   "metadata": {},
   "source": [
    "### 1.1.2. Simulation du nombre d'achats requis pour obtenir la collection complète.\n",
    "\n",
    "Simulez le nombre d'achats nécessaires pour obtenir la collection complète en simulant chacun de $T_i$."
   ]
  },
  {
   "cell_type": "code",
   "execution_count": 26,
   "metadata": {},
   "outputs": [
    {
     "ename": "LoadError",
     "evalue": "MethodError: no method matching Random.Sampler(::Type{Random.TaskLocalRNG}, ::Random.SamplerTrivial{Geometric, Any}, ::Val{1})\n\n\u001b[0mClosest candidates are:\n\u001b[0m  Random.Sampler(::Type{<:Random.AbstractRNG}, ::Random.Sampler, ::Union{Val{1}, Val{Inf}})\n\u001b[0m\u001b[90m   @\u001b[39m \u001b[36mRandom\u001b[39m \u001b[90mC:\\Users\\franc\\.julia\\juliaup\\julia-1.10.5+0.x64.w64.mingw32\\share\\julia\\stdlib\\v1.10\\Random\\src\\\u001b[39m\u001b[90m\u001b[4mRandom.jl:147\u001b[24m\u001b[39m\n\u001b[0m  Random.Sampler(::Type{<:Random.AbstractRNG}, ::Any, ::Union{Val{1}, Val{Inf}})\n\u001b[0m\u001b[90m   @\u001b[39m \u001b[36mRandom\u001b[39m \u001b[90mC:\\Users\\franc\\.julia\\juliaup\\julia-1.10.5+0.x64.w64.mingw32\\share\\julia\\stdlib\\v1.10\\Random\\src\\\u001b[39m\u001b[90m\u001b[4mRandom.jl:183\u001b[24m\u001b[39m\n\u001b[0m  Random.Sampler(::Type{<:Random.AbstractRNG}, \u001b[91m::BitSet\u001b[39m, ::Union{Val{1}, Val{Inf}})\n\u001b[0m\u001b[90m   @\u001b[39m \u001b[36mRandom\u001b[39m \u001b[90mC:\\Users\\franc\\.julia\\juliaup\\julia-1.10.5+0.x64.w64.mingw32\\share\\julia\\stdlib\\v1.10\\Random\\src\\\u001b[39m\u001b[90m\u001b[4mgeneration.jl:450\u001b[24m\u001b[39m\n\u001b[0m  ...\n",
     "output_type": "error",
     "traceback": [
      "MethodError: no method matching Random.Sampler(::Type{Random.TaskLocalRNG}, ::Random.SamplerTrivial{Geometric, Any}, ::Val{1})\n\n\u001b[0mClosest candidates are:\n\u001b[0m  Random.Sampler(::Type{<:Random.AbstractRNG}, ::Random.Sampler, ::Union{Val{1}, Val{Inf}})\n\u001b[0m\u001b[90m   @\u001b[39m \u001b[36mRandom\u001b[39m \u001b[90mC:\\Users\\franc\\.julia\\juliaup\\julia-1.10.5+0.x64.w64.mingw32\\share\\julia\\stdlib\\v1.10\\Random\\src\\\u001b[39m\u001b[90m\u001b[4mRandom.jl:147\u001b[24m\u001b[39m\n\u001b[0m  Random.Sampler(::Type{<:Random.AbstractRNG}, ::Any, ::Union{Val{1}, Val{Inf}})\n\u001b[0m\u001b[90m   @\u001b[39m \u001b[36mRandom\u001b[39m \u001b[90mC:\\Users\\franc\\.julia\\juliaup\\julia-1.10.5+0.x64.w64.mingw32\\share\\julia\\stdlib\\v1.10\\Random\\src\\\u001b[39m\u001b[90m\u001b[4mRandom.jl:183\u001b[24m\u001b[39m\n\u001b[0m  Random.Sampler(::Type{<:Random.AbstractRNG}, \u001b[91m::BitSet\u001b[39m, ::Union{Val{1}, Val{Inf}})\n\u001b[0m\u001b[90m   @\u001b[39m \u001b[36mRandom\u001b[39m \u001b[90mC:\\Users\\franc\\.julia\\juliaup\\julia-1.10.5+0.x64.w64.mingw32\\share\\julia\\stdlib\\v1.10\\Random\\src\\\u001b[39m\u001b[90m\u001b[4mgeneration.jl:450\u001b[24m\u001b[39m\n\u001b[0m  ...\n",
      "",
      "Stacktrace:",
      " [1] Random.Sampler(T::Type{Random.TaskLocalRNG}, sp::Random.SamplerTrivial{Geometric, Any}, r::Val{1})",
      "   @ Random C:\\Users\\franc\\.julia\\juliaup\\julia-1.10.5+0.x64.w64.mingw32\\share\\julia\\stdlib\\v1.10\\Random\\src\\Random.jl:147",
      " [2] Random.Sampler(rng::Random.TaskLocalRNG, x::Random.SamplerTrivial{Geometric, Any}, r::Val{1})",
      "   @ Random C:\\Users\\franc\\.julia\\juliaup\\julia-1.10.5+0.x64.w64.mingw32\\share\\julia\\stdlib\\v1.10\\Random\\src\\Random.jl:139",
      " [3] rand(rng::Random.TaskLocalRNG, X::Random.SamplerTrivial{Geometric, Any})",
      "   @ Random C:\\Users\\franc\\.julia\\juliaup\\julia-1.10.5+0.x64.w64.mingw32\\share\\julia\\stdlib\\v1.10\\Random\\src\\Random.jl:255",
      " [4] rand(rng::Random.TaskLocalRNG, X::Geometric)",
      "   @ Random C:\\Users\\franc\\.julia\\juliaup\\julia-1.10.5+0.x64.w64.mingw32\\share\\julia\\stdlib\\v1.10\\Random\\src\\Random.jl:255",
      " [5] rand(X::Geometric)",
      "   @ Random C:\\Users\\franc\\.julia\\juliaup\\julia-1.10.5+0.x64.w64.mingw32\\share\\julia\\stdlib\\v1.10\\Random\\src\\Random.jl:260",
      " [6] ntrial(i::Int64, n::Int64)",
      "   @ Main .\\In[25]:5",
      " [7] top-level scope",
      "   @ In[26]:1"
     ]
    }
   ],
   "source": [
    "T1 = ntrial(2,3)\n"
   ]
  },
  {
   "cell_type": "markdown",
   "metadata": {},
   "source": [
    "Transformez le code précédent en fonction nommée *ntotal* qui prend en argument la taille de la collection."
   ]
  },
  {
   "cell_type": "code",
   "execution_count": null,
   "metadata": {},
   "outputs": [],
   "source": [
    "function ntotal(n::Int)\n",
    "   @assert n>0\n",
    "    \n",
    "    #TODO\n",
    "    \n",
    "end"
   ]
  },
  {
   "cell_type": "markdown",
   "metadata": {},
   "source": [
    "### 1.1.3. Simulation du nombre d'achats requis pour compléter la collection.\n",
    "\n",
    "Simulez d'abord 10 000 réalisations du nombre d'achats requis pour compléter la collection. C'est comme si on répétait l'expérience de collectionner les n objets 10 000 fois."
   ]
  },
  {
   "cell_type": "code",
   "execution_count": null,
   "metadata": {},
   "outputs": [],
   "source": []
  },
  {
   "cell_type": "markdown",
   "metadata": {},
   "source": [
    "Affichez le nombre d'essais requis avec un histogramme à 100 classes en utilisant l'argument `Geom.histogram(bincount=100)` de la fonction `plot()` de la librairie Gadfly."
   ]
  },
  {
   "cell_type": "code",
   "execution_count": null,
   "metadata": {},
   "outputs": [],
   "source": []
  },
  {
   "cell_type": "markdown",
   "metadata": {},
   "source": [
    "## 1.2 Estimation Monte-Carlo des quantités d'intérêt\n",
    "\n",
    "On utilisera l'ensemble des réalisations simulées pour estimer les quantités d'intérêt."
   ]
  },
  {
   "cell_type": "markdown",
   "metadata": {},
   "source": [
    "### 1.2.1. Estimation de l'espérance du nombre d'achats requis pour obtenir la collection complète.\n",
    "\n",
    "À l'aide des 10 000 réalisations, calculez la moyenne empirique de nombre d'essais requis pour obtenir la collection complète de $n=8$ éléments."
   ]
  },
  {
   "cell_type": "code",
   "execution_count": null,
   "metadata": {},
   "outputs": [],
   "source": []
  },
  {
   "cell_type": "markdown",
   "metadata": {},
   "source": [
    "### 1.2.2. Estimation de l'écart-type du nombre d'achats requis pour obtenir la collection complète.\n",
    "\n",
    "À l'aide des 10 000 réalisations, calculez l'écart-type empirique de nombre d'essais requis pour obtenir la collection complète de $n=8$ éléments."
   ]
  },
  {
   "cell_type": "code",
   "execution_count": null,
   "metadata": {},
   "outputs": [],
   "source": []
  },
  {
   "cell_type": "markdown",
   "metadata": {},
   "source": [
    "### 1.2.2. Estimation de la probabilité que 23 essais soit suffisants pour obtenir la collection complète.\n",
    "\n",
    "Pour ce faire, calculez la proportion empirique des réalisations parmi les 10 000 simulées où 23 essais ou moins ont été suffisants pour compléter la collection."
   ]
  },
  {
   "cell_type": "code",
   "execution_count": null,
   "metadata": {},
   "outputs": [],
   "source": []
  },
  {
   "cell_type": "markdown",
   "metadata": {},
   "source": [
    "# Exercice 2\n",
    "\n",
    "Dans cet exercice, vous devrez charger les données météorologiques enregistrées à l'Aéroport Pierre-Elliot-Trudeau à Montréal et afficher les températures annuelles maximales. Les étapes sont les suivantes :\n",
    "\n",
    "1. Chargement du fichier de données.\n",
    "2. Récupération des années complètes uniquement.\n",
    "3. Extraction des températures annuelles maximales.\n",
    "4. Affichage des températures annuelles maximales en fonction des années.\n"
   ]
  },
  {
   "cell_type": "markdown",
   "metadata": {},
   "source": [
    "## 2.1. Chargement du fichier de données\n",
    "\n",
    "Le chargement du fichier CSV contenant les données se fait en utilisant la fonction `CSV.read()` en ajoutant l'argument `DataFrame`."
   ]
  },
  {
   "cell_type": "code",
   "execution_count": 30,
   "metadata": {},
   "outputs": [
    {
     "data": {
      "text/html": [
       "<div><div style = \"float: left;\"><span>5×37 DataFrame</span></div><div style = \"clear: both;\"></div></div><div class = \"data-frame\" style = \"overflow-x: scroll;\"><table class = \"data-frame\" style = \"margin-bottom: 6px;\"><thead><tr class = \"header\"><th class = \"rowNumber\" style = \"font-weight: bold; text-align: right;\">Row</th><th style = \"text-align: left;\">x</th><th style = \"text-align: left;\">y</th><th style = \"text-align: left;\">STATION_NAME</th><th style = \"text-align: left;\">STN_ID</th><th style = \"text-align: left;\">CLIMATE_IDENTIFIER</th><th style = \"text-align: left;\">ID</th><th style = \"text-align: left;\">LOCAL_DATE</th><th style = \"text-align: left;\">PROVINCE_CODE</th><th style = \"text-align: left;\">LOCAL_YEAR</th><th style = \"text-align: left;\">LOCAL_MONTH</th><th style = \"text-align: left;\">LOCAL_DAY</th><th style = \"text-align: left;\">MEAN_TEMPERATURE</th><th style = \"text-align: left;\">MEAN_TEMPERATURE_FLAG</th><th style = \"text-align: left;\">MIN_TEMPERATURE</th><th style = \"text-align: left;\">MIN_TEMPERATURE_FLAG</th><th style = \"text-align: left;\">MAX_TEMPERATURE</th><th style = \"text-align: left;\">MAX_TEMPERATURE_FLAG</th><th style = \"text-align: left;\">TOTAL_PRECIPITATION</th><th style = \"text-align: left;\">TOTAL_PRECIPITATION_FLAG</th><th style = \"text-align: left;\">TOTAL_RAIN</th><th style = \"text-align: left;\">TOTAL_RAIN_FLAG</th><th style = \"text-align: left;\">TOTAL_SNOW</th><th style = \"text-align: left;\">TOTAL_SNOW_FLAG</th><th style = \"text-align: left;\">SNOW_ON_GROUND</th><th style = \"text-align: left;\">SNOW_ON_GROUND_FLAG</th><th style = \"text-align: left;\">DIRECTION_MAX_GUST</th><th style = \"text-align: left;\">DIRECTION_MAX_GUST_FLAG</th><th style = \"text-align: left;\">SPEED_MAX_GUST</th><th style = \"text-align: left;\">SPEED_MAX_GUST_FLAG</th><th style = \"text-align: left;\">COOLING_DEGREE_DAYS</th><th style = \"text-align: left;\">COOLING_DEGREE_DAYS_FLAG</th><th style = \"text-align: left;\">HEATING_DEGREE_DAYS</th><th style = \"text-align: left;\">HEATING_DEGREE_DAYS_FLAG</th><th style = \"text-align: left;\">MIN_REL_HUMIDITY</th><th style = \"text-align: left;\">MIN_REL_HUMIDITY_FLAG</th><th style = \"text-align: left;\">MAX_REL_HUMIDITY</th><th style = \"text-align: left;\">MAX_REL_HUMIDITY_FLAG</th></tr><tr class = \"subheader headerLastRow\"><th class = \"rowNumber\" style = \"font-weight: bold; text-align: right;\"></th><th title = \"Float64\" style = \"text-align: left;\">Float64</th><th title = \"Float64\" style = \"text-align: left;\">Float64</th><th title = \"String\" style = \"text-align: left;\">String</th><th title = \"Int64\" style = \"text-align: left;\">Int64</th><th title = \"Int64\" style = \"text-align: left;\">Int64</th><th title = \"String31\" style = \"text-align: left;\">String31</th><th title = \"String31\" style = \"text-align: left;\">String31</th><th title = \"String3\" style = \"text-align: left;\">String3</th><th title = \"Int64\" style = \"text-align: left;\">Int64</th><th title = \"Int64\" style = \"text-align: left;\">Int64</th><th title = \"Int64\" style = \"text-align: left;\">Int64</th><th title = \"Union{Missing, Float64}\" style = \"text-align: left;\">Float64?</th><th title = \"Union{Missing, String1}\" style = \"text-align: left;\">String1?</th><th title = \"Union{Missing, Float64}\" style = \"text-align: left;\">Float64?</th><th title = \"Union{Missing, String1}\" style = \"text-align: left;\">String1?</th><th title = \"Union{Missing, Float64}\" style = \"text-align: left;\">Float64?</th><th title = \"Union{Missing, String1}\" style = \"text-align: left;\">String1?</th><th title = \"Union{Missing, Float64}\" style = \"text-align: left;\">Float64?</th><th title = \"Union{Missing, String1}\" style = \"text-align: left;\">String1?</th><th title = \"Union{Missing, Float64}\" style = \"text-align: left;\">Float64?</th><th title = \"Union{Missing, String1}\" style = \"text-align: left;\">String1?</th><th title = \"Union{Missing, Float64}\" style = \"text-align: left;\">Float64?</th><th title = \"Union{Missing, String1}\" style = \"text-align: left;\">String1?</th><th title = \"Union{Missing, Int64}\" style = \"text-align: left;\">Int64?</th><th title = \"Union{Missing, String1}\" style = \"text-align: left;\">String1?</th><th title = \"Union{Missing, Int64}\" style = \"text-align: left;\">Int64?</th><th title = \"Union{Missing, String1}\" style = \"text-align: left;\">String1?</th><th title = \"Union{Missing, Int64}\" style = \"text-align: left;\">Int64?</th><th title = \"Union{Missing, String1}\" style = \"text-align: left;\">String1?</th><th title = \"Union{Missing, Float64}\" style = \"text-align: left;\">Float64?</th><th title = \"Union{Missing, String1}\" style = \"text-align: left;\">String1?</th><th title = \"Union{Missing, Float64}\" style = \"text-align: left;\">Float64?</th><th title = \"Union{Missing, String1}\" style = \"text-align: left;\">String1?</th><th title = \"Union{Missing, Int64}\" style = \"text-align: left;\">Int64?</th><th title = \"Union{Missing, String1}\" style = \"text-align: left;\">String1?</th><th title = \"Union{Missing, Int64}\" style = \"text-align: left;\">Int64?</th><th title = \"Union{Missing, String1}\" style = \"text-align: left;\">String1?</th></tr></thead><tbody><tr><td class = \"rowNumber\" style = \"font-weight: bold; text-align: right;\">1</td><td style = \"text-align: right;\">-73.75</td><td style = \"text-align: right;\">45.4667</td><td style = \"text-align: left;\">MONTREAL/PIERRE ELLIOTT TRUDEAU INTL A</td><td style = \"text-align: right;\">5415</td><td style = \"text-align: right;\">7025250</td><td style = \"text-align: left;\">7025250.1941.9.1</td><td style = \"text-align: left;\">1941-09-01 00:00:00</td><td style = \"text-align: left;\">QC</td><td style = \"text-align: right;\">1941</td><td style = \"text-align: right;\">9</td><td style = \"text-align: right;\">1</td><td style = \"text-align: right;\">20.8</td><td style = \"font-style: italic; text-align: left;\">missing</td><td style = \"text-align: right;\">13.3</td><td style = \"font-style: italic; text-align: left;\">missing</td><td style = \"text-align: right;\">28.3</td><td style = \"font-style: italic; text-align: left;\">missing</td><td style = \"text-align: right;\">0.0</td><td style = \"font-style: italic; text-align: left;\">missing</td><td style = \"text-align: right;\">0.0</td><td style = \"font-style: italic; text-align: left;\">missing</td><td style = \"text-align: right;\">0.0</td><td style = \"font-style: italic; text-align: left;\">missing</td><td style = \"font-style: italic; text-align: right;\">missing</td><td style = \"font-style: italic; text-align: left;\">missing</td><td style = \"font-style: italic; text-align: right;\">missing</td><td style = \"font-style: italic; text-align: left;\">missing</td><td style = \"font-style: italic; text-align: right;\">missing</td><td style = \"font-style: italic; text-align: left;\">missing</td><td style = \"text-align: right;\">2.8</td><td style = \"font-style: italic; text-align: left;\">missing</td><td style = \"text-align: right;\">0.0</td><td style = \"font-style: italic; text-align: left;\">missing</td><td style = \"font-style: italic; text-align: right;\">missing</td><td style = \"font-style: italic; text-align: left;\">missing</td><td style = \"font-style: italic; text-align: right;\">missing</td><td style = \"font-style: italic; text-align: left;\">missing</td></tr><tr><td class = \"rowNumber\" style = \"font-weight: bold; text-align: right;\">2</td><td style = \"text-align: right;\">-73.75</td><td style = \"text-align: right;\">45.4667</td><td style = \"text-align: left;\">MONTREAL/PIERRE ELLIOTT TRUDEAU INTL A</td><td style = \"text-align: right;\">5415</td><td style = \"text-align: right;\">7025250</td><td style = \"text-align: left;\">7025250.1941.9.2</td><td style = \"text-align: left;\">1941-09-02 00:00:00</td><td style = \"text-align: left;\">QC</td><td style = \"text-align: right;\">1941</td><td style = \"text-align: right;\">9</td><td style = \"text-align: right;\">2</td><td style = \"text-align: right;\">15.9</td><td style = \"font-style: italic; text-align: left;\">missing</td><td style = \"text-align: right;\">10.0</td><td style = \"font-style: italic; text-align: left;\">missing</td><td style = \"text-align: right;\">21.7</td><td style = \"font-style: italic; text-align: left;\">missing</td><td style = \"text-align: right;\">0.0</td><td style = \"font-style: italic; text-align: left;\">missing</td><td style = \"text-align: right;\">0.0</td><td style = \"font-style: italic; text-align: left;\">missing</td><td style = \"text-align: right;\">0.0</td><td style = \"font-style: italic; text-align: left;\">missing</td><td style = \"font-style: italic; text-align: right;\">missing</td><td style = \"font-style: italic; text-align: left;\">missing</td><td style = \"font-style: italic; text-align: right;\">missing</td><td style = \"font-style: italic; text-align: left;\">missing</td><td style = \"font-style: italic; text-align: right;\">missing</td><td style = \"font-style: italic; text-align: left;\">missing</td><td style = \"text-align: right;\">0.0</td><td style = \"font-style: italic; text-align: left;\">missing</td><td style = \"text-align: right;\">2.1</td><td style = \"font-style: italic; text-align: left;\">missing</td><td style = \"font-style: italic; text-align: right;\">missing</td><td style = \"font-style: italic; text-align: left;\">missing</td><td style = \"font-style: italic; text-align: right;\">missing</td><td style = \"font-style: italic; text-align: left;\">missing</td></tr><tr><td class = \"rowNumber\" style = \"font-weight: bold; text-align: right;\">3</td><td style = \"text-align: right;\">-73.75</td><td style = \"text-align: right;\">45.4667</td><td style = \"text-align: left;\">MONTREAL/PIERRE ELLIOTT TRUDEAU INTL A</td><td style = \"text-align: right;\">5415</td><td style = \"text-align: right;\">7025250</td><td style = \"text-align: left;\">7025250.1941.9.3</td><td style = \"text-align: left;\">1941-09-03 00:00:00</td><td style = \"text-align: left;\">QC</td><td style = \"text-align: right;\">1941</td><td style = \"text-align: right;\">9</td><td style = \"text-align: right;\">3</td><td style = \"text-align: right;\">18.1</td><td style = \"font-style: italic; text-align: left;\">missing</td><td style = \"text-align: right;\">10.0</td><td style = \"font-style: italic; text-align: left;\">missing</td><td style = \"text-align: right;\">26.1</td><td style = \"font-style: italic; text-align: left;\">missing</td><td style = \"text-align: right;\">0.0</td><td style = \"font-style: italic; text-align: left;\">missing</td><td style = \"text-align: right;\">0.0</td><td style = \"font-style: italic; text-align: left;\">missing</td><td style = \"text-align: right;\">0.0</td><td style = \"font-style: italic; text-align: left;\">missing</td><td style = \"font-style: italic; text-align: right;\">missing</td><td style = \"font-style: italic; text-align: left;\">missing</td><td style = \"font-style: italic; text-align: right;\">missing</td><td style = \"font-style: italic; text-align: left;\">missing</td><td style = \"font-style: italic; text-align: right;\">missing</td><td style = \"font-style: italic; text-align: left;\">missing</td><td style = \"text-align: right;\">0.1</td><td style = \"font-style: italic; text-align: left;\">missing</td><td style = \"text-align: right;\">0.0</td><td style = \"font-style: italic; text-align: left;\">missing</td><td style = \"font-style: italic; text-align: right;\">missing</td><td style = \"font-style: italic; text-align: left;\">missing</td><td style = \"font-style: italic; text-align: right;\">missing</td><td style = \"font-style: italic; text-align: left;\">missing</td></tr><tr><td class = \"rowNumber\" style = \"font-weight: bold; text-align: right;\">4</td><td style = \"text-align: right;\">-73.75</td><td style = \"text-align: right;\">45.4667</td><td style = \"text-align: left;\">MONTREAL/PIERRE ELLIOTT TRUDEAU INTL A</td><td style = \"text-align: right;\">5415</td><td style = \"text-align: right;\">7025250</td><td style = \"text-align: left;\">7025250.1941.9.4</td><td style = \"text-align: left;\">1941-09-04 00:00:00</td><td style = \"text-align: left;\">QC</td><td style = \"text-align: right;\">1941</td><td style = \"text-align: right;\">9</td><td style = \"text-align: right;\">4</td><td style = \"text-align: right;\">18.1</td><td style = \"font-style: italic; text-align: left;\">missing</td><td style = \"text-align: right;\">8.3</td><td style = \"font-style: italic; text-align: left;\">missing</td><td style = \"text-align: right;\">27.8</td><td style = \"font-style: italic; text-align: left;\">missing</td><td style = \"text-align: right;\">5.8</td><td style = \"font-style: italic; text-align: left;\">missing</td><td style = \"text-align: right;\">5.8</td><td style = \"font-style: italic; text-align: left;\">missing</td><td style = \"text-align: right;\">0.0</td><td style = \"font-style: italic; text-align: left;\">missing</td><td style = \"font-style: italic; text-align: right;\">missing</td><td style = \"font-style: italic; text-align: left;\">missing</td><td style = \"font-style: italic; text-align: right;\">missing</td><td style = \"font-style: italic; text-align: left;\">missing</td><td style = \"font-style: italic; text-align: right;\">missing</td><td style = \"font-style: italic; text-align: left;\">missing</td><td style = \"text-align: right;\">0.1</td><td style = \"font-style: italic; text-align: left;\">missing</td><td style = \"text-align: right;\">0.0</td><td style = \"font-style: italic; text-align: left;\">missing</td><td style = \"font-style: italic; text-align: right;\">missing</td><td style = \"font-style: italic; text-align: left;\">missing</td><td style = \"font-style: italic; text-align: right;\">missing</td><td style = \"font-style: italic; text-align: left;\">missing</td></tr><tr><td class = \"rowNumber\" style = \"font-weight: bold; text-align: right;\">5</td><td style = \"text-align: right;\">-73.75</td><td style = \"text-align: right;\">45.4667</td><td style = \"text-align: left;\">MONTREAL/PIERRE ELLIOTT TRUDEAU INTL A</td><td style = \"text-align: right;\">5415</td><td style = \"text-align: right;\">7025250</td><td style = \"text-align: left;\">7025250.1941.9.5</td><td style = \"text-align: left;\">1941-09-05 00:00:00</td><td style = \"text-align: left;\">QC</td><td style = \"text-align: right;\">1941</td><td style = \"text-align: right;\">9</td><td style = \"text-align: right;\">5</td><td style = \"text-align: right;\">18.1</td><td style = \"font-style: italic; text-align: left;\">missing</td><td style = \"text-align: right;\">15.6</td><td style = \"font-style: italic; text-align: left;\">missing</td><td style = \"text-align: right;\">20.6</td><td style = \"font-style: italic; text-align: left;\">missing</td><td style = \"text-align: right;\">21.8</td><td style = \"font-style: italic; text-align: left;\">missing</td><td style = \"text-align: right;\">21.8</td><td style = \"font-style: italic; text-align: left;\">missing</td><td style = \"text-align: right;\">0.0</td><td style = \"font-style: italic; text-align: left;\">missing</td><td style = \"font-style: italic; text-align: right;\">missing</td><td style = \"font-style: italic; text-align: left;\">missing</td><td style = \"font-style: italic; text-align: right;\">missing</td><td style = \"font-style: italic; text-align: left;\">missing</td><td style = \"font-style: italic; text-align: right;\">missing</td><td style = \"font-style: italic; text-align: left;\">missing</td><td style = \"text-align: right;\">0.1</td><td style = \"font-style: italic; text-align: left;\">missing</td><td style = \"text-align: right;\">0.0</td><td style = \"font-style: italic; text-align: left;\">missing</td><td style = \"font-style: italic; text-align: right;\">missing</td><td style = \"font-style: italic; text-align: left;\">missing</td><td style = \"font-style: italic; text-align: right;\">missing</td><td style = \"font-style: italic; text-align: left;\">missing</td></tr></tbody></table></div>"
      ],
      "text/latex": [
       "\\begin{tabular}{r|cccccc}\n",
       "\t& x & y & STATION\\_NAME & STN\\_ID & CLIMATE\\_IDENTIFIER & \\\\\n",
       "\t\\hline\n",
       "\t& Float64 & Float64 & String & Int64 & Int64 & \\\\\n",
       "\t\\hline\n",
       "\t1 & -73.75 & 45.4667 & MONTREAL/PIERRE ELLIOTT TRUDEAU INTL A & 5415 & 7025250 & $\\dots$ \\\\\n",
       "\t2 & -73.75 & 45.4667 & MONTREAL/PIERRE ELLIOTT TRUDEAU INTL A & 5415 & 7025250 & $\\dots$ \\\\\n",
       "\t3 & -73.75 & 45.4667 & MONTREAL/PIERRE ELLIOTT TRUDEAU INTL A & 5415 & 7025250 & $\\dots$ \\\\\n",
       "\t4 & -73.75 & 45.4667 & MONTREAL/PIERRE ELLIOTT TRUDEAU INTL A & 5415 & 7025250 & $\\dots$ \\\\\n",
       "\t5 & -73.75 & 45.4667 & MONTREAL/PIERRE ELLIOTT TRUDEAU INTL A & 5415 & 7025250 & $\\dots$ \\\\\n",
       "\\end{tabular}\n"
      ],
      "text/plain": [
       "\u001b[1m5×37 DataFrame\u001b[0m\n",
       "\u001b[1m Row \u001b[0m│\u001b[1m x       \u001b[0m\u001b[1m y       \u001b[0m\u001b[1m STATION_NAME                      \u001b[0m\u001b[1m STN_ID \u001b[0m\u001b[1m CLIMATE_ID\u001b[0m ⋯\n",
       "     │\u001b[90m Float64 \u001b[0m\u001b[90m Float64 \u001b[0m\u001b[90m String                            \u001b[0m\u001b[90m Int64  \u001b[0m\u001b[90m Int64     \u001b[0m ⋯\n",
       "─────┼──────────────────────────────────────────────────────────────────────────\n",
       "   1 │  -73.75  45.4667  MONTREAL/PIERRE ELLIOTT TRUDEAU …    5415             ⋯\n",
       "   2 │  -73.75  45.4667  MONTREAL/PIERRE ELLIOTT TRUDEAU …    5415\n",
       "   3 │  -73.75  45.4667  MONTREAL/PIERRE ELLIOTT TRUDEAU …    5415\n",
       "   4 │  -73.75  45.4667  MONTREAL/PIERRE ELLIOTT TRUDEAU …    5415\n",
       "   5 │  -73.75  45.4667  MONTREAL/PIERRE ELLIOTT TRUDEAU …    5415             ⋯\n",
       "\u001b[36m                                                              33 columns omitted\u001b[0m"
      ]
     },
     "execution_count": 30,
     "metadata": {},
     "output_type": "execute_result"
    }
   ],
   "source": [
    "using CSV, DataFrames\n",
    "\n",
    "data = CSV.read(\"meteoMontreal.csv\", DataFrame)\n",
    "\n",
    "first(data,5) # Affiche uniquement les 5 premières lignes de data"
   ]
  },
  {
   "cell_type": "markdown",
   "metadata": {},
   "source": [
    "## 2.2 Sélection des colonnes d'intérêts\n",
    "\n",
    "Sélectionnez les colonnes\n",
    "- :LOCAL_YEAR\n",
    "- :LOCAL_MONTH\n",
    "- :LOCAL_DAY\n",
    "- :MAX_TEMPERATURE\n",
    "\n",
    "du DataFrame avec la fonction `select()` ou `select!()`."
   ]
  },
  {
   "cell_type": "code",
   "execution_count": 35,
   "metadata": {},
   "outputs": [
    {
     "data": {
      "text/html": [
       "<div><div style = \"float: left;\"><span>26057×4 DataFrame</span></div><div style = \"float: right;\"><span style = \"font-style: italic;\">26032 rows omitted</span></div><div style = \"clear: both;\"></div></div><div class = \"data-frame\" style = \"overflow-x: scroll;\"><table class = \"data-frame\" style = \"margin-bottom: 6px;\"><thead><tr class = \"header\"><th class = \"rowNumber\" style = \"font-weight: bold; text-align: right;\">Row</th><th style = \"text-align: left;\">LOCAL_YEAR</th><th style = \"text-align: left;\">LOCAL_MONTH</th><th style = \"text-align: left;\">LOCAL_DAY</th><th style = \"text-align: left;\">MAX_TEMPERATURE</th></tr><tr class = \"subheader headerLastRow\"><th class = \"rowNumber\" style = \"font-weight: bold; text-align: right;\"></th><th title = \"Int64\" style = \"text-align: left;\">Int64</th><th title = \"Int64\" style = \"text-align: left;\">Int64</th><th title = \"Int64\" style = \"text-align: left;\">Int64</th><th title = \"Union{Missing, Float64}\" style = \"text-align: left;\">Float64?</th></tr></thead><tbody><tr><td class = \"rowNumber\" style = \"font-weight: bold; text-align: right;\">1</td><td style = \"text-align: right;\">1941</td><td style = \"text-align: right;\">9</td><td style = \"text-align: right;\">1</td><td style = \"text-align: right;\">28.3</td></tr><tr><td class = \"rowNumber\" style = \"font-weight: bold; text-align: right;\">2</td><td style = \"text-align: right;\">1941</td><td style = \"text-align: right;\">9</td><td style = \"text-align: right;\">2</td><td style = \"text-align: right;\">21.7</td></tr><tr><td class = \"rowNumber\" style = \"font-weight: bold; text-align: right;\">3</td><td style = \"text-align: right;\">1941</td><td style = \"text-align: right;\">9</td><td style = \"text-align: right;\">3</td><td style = \"text-align: right;\">26.1</td></tr><tr><td class = \"rowNumber\" style = \"font-weight: bold; text-align: right;\">4</td><td style = \"text-align: right;\">1941</td><td style = \"text-align: right;\">9</td><td style = \"text-align: right;\">4</td><td style = \"text-align: right;\">27.8</td></tr><tr><td class = \"rowNumber\" style = \"font-weight: bold; text-align: right;\">5</td><td style = \"text-align: right;\">1941</td><td style = \"text-align: right;\">9</td><td style = \"text-align: right;\">5</td><td style = \"text-align: right;\">20.6</td></tr><tr><td class = \"rowNumber\" style = \"font-weight: bold; text-align: right;\">6</td><td style = \"text-align: right;\">1941</td><td style = \"text-align: right;\">9</td><td style = \"text-align: right;\">6</td><td style = \"text-align: right;\">27.2</td></tr><tr><td class = \"rowNumber\" style = \"font-weight: bold; text-align: right;\">7</td><td style = \"text-align: right;\">1941</td><td style = \"text-align: right;\">9</td><td style = \"text-align: right;\">7</td><td style = \"text-align: right;\">23.3</td></tr><tr><td class = \"rowNumber\" style = \"font-weight: bold; text-align: right;\">8</td><td style = \"text-align: right;\">1941</td><td style = \"text-align: right;\">9</td><td style = \"text-align: right;\">8</td><td style = \"text-align: right;\">16.1</td></tr><tr><td class = \"rowNumber\" style = \"font-weight: bold; text-align: right;\">9</td><td style = \"text-align: right;\">1941</td><td style = \"text-align: right;\">9</td><td style = \"text-align: right;\">9</td><td style = \"text-align: right;\">17.8</td></tr><tr><td class = \"rowNumber\" style = \"font-weight: bold; text-align: right;\">10</td><td style = \"text-align: right;\">1941</td><td style = \"text-align: right;\">9</td><td style = \"text-align: right;\">10</td><td style = \"text-align: right;\">28.3</td></tr><tr><td class = \"rowNumber\" style = \"font-weight: bold; text-align: right;\">11</td><td style = \"text-align: right;\">1941</td><td style = \"text-align: right;\">9</td><td style = \"text-align: right;\">11</td><td style = \"text-align: right;\">19.4</td></tr><tr><td class = \"rowNumber\" style = \"font-weight: bold; text-align: right;\">12</td><td style = \"text-align: right;\">1941</td><td style = \"text-align: right;\">9</td><td style = \"text-align: right;\">12</td><td style = \"text-align: right;\">17.2</td></tr><tr><td class = \"rowNumber\" style = \"font-weight: bold; text-align: right;\">13</td><td style = \"text-align: right;\">1941</td><td style = \"text-align: right;\">9</td><td style = \"text-align: right;\">13</td><td style = \"text-align: right;\">15.6</td></tr><tr><td style = \"text-align: right;\">&vellip;</td><td style = \"text-align: right;\">&vellip;</td><td style = \"text-align: right;\">&vellip;</td><td style = \"text-align: right;\">&vellip;</td><td style = \"text-align: right;\">&vellip;</td></tr><tr><td class = \"rowNumber\" style = \"font-weight: bold; text-align: right;\">26046</td><td style = \"text-align: right;\">2013</td><td style = \"text-align: right;\">2</td><td style = \"text-align: right;\">2</td><td style = \"text-align: right;\">-11.6</td></tr><tr><td class = \"rowNumber\" style = \"font-weight: bold; text-align: right;\">26047</td><td style = \"text-align: right;\">2013</td><td style = \"text-align: right;\">2</td><td style = \"text-align: right;\">3</td><td style = \"text-align: right;\">-8.6</td></tr><tr><td class = \"rowNumber\" style = \"font-weight: bold; text-align: right;\">26048</td><td style = \"text-align: right;\">2013</td><td style = \"text-align: right;\">2</td><td style = \"text-align: right;\">4</td><td style = \"text-align: right;\">-8.2</td></tr><tr><td class = \"rowNumber\" style = \"font-weight: bold; text-align: right;\">26049</td><td style = \"text-align: right;\">2013</td><td style = \"text-align: right;\">2</td><td style = \"text-align: right;\">5</td><td style = \"text-align: right;\">-9.1</td></tr><tr><td class = \"rowNumber\" style = \"font-weight: bold; text-align: right;\">26050</td><td style = \"text-align: right;\">2013</td><td style = \"text-align: right;\">2</td><td style = \"text-align: right;\">6</td><td style = \"text-align: right;\">-6.1</td></tr><tr><td class = \"rowNumber\" style = \"font-weight: bold; text-align: right;\">26051</td><td style = \"text-align: right;\">2013</td><td style = \"text-align: right;\">2</td><td style = \"text-align: right;\">7</td><td style = \"text-align: right;\">-15.5</td></tr><tr><td class = \"rowNumber\" style = \"font-weight: bold; text-align: right;\">26052</td><td style = \"text-align: right;\">2013</td><td style = \"text-align: right;\">2</td><td style = \"text-align: right;\">8</td><td style = \"text-align: right;\">-11.0</td></tr><tr><td class = \"rowNumber\" style = \"font-weight: bold; text-align: right;\">26053</td><td style = \"text-align: right;\">2013</td><td style = \"text-align: right;\">2</td><td style = \"text-align: right;\">9</td><td style = \"text-align: right;\">-6.9</td></tr><tr><td class = \"rowNumber\" style = \"font-weight: bold; text-align: right;\">26054</td><td style = \"text-align: right;\">2013</td><td style = \"text-align: right;\">2</td><td style = \"text-align: right;\">10</td><td style = \"text-align: right;\">-5.6</td></tr><tr><td class = \"rowNumber\" style = \"font-weight: bold; text-align: right;\">26055</td><td style = \"text-align: right;\">2013</td><td style = \"text-align: right;\">2</td><td style = \"text-align: right;\">11</td><td style = \"text-align: right;\">3.5</td></tr><tr><td class = \"rowNumber\" style = \"font-weight: bold; text-align: right;\">26056</td><td style = \"text-align: right;\">2013</td><td style = \"text-align: right;\">2</td><td style = \"text-align: right;\">12</td><td style = \"text-align: right;\">2.4</td></tr><tr><td class = \"rowNumber\" style = \"font-weight: bold; text-align: right;\">26057</td><td style = \"text-align: right;\">2013</td><td style = \"text-align: right;\">2</td><td style = \"text-align: right;\">13</td><td style = \"text-align: right;\">0.8</td></tr></tbody></table></div>"
      ],
      "text/latex": [
       "\\begin{tabular}{r|cccc}\n",
       "\t& LOCAL\\_YEAR & LOCAL\\_MONTH & LOCAL\\_DAY & MAX\\_TEMPERATURE\\\\\n",
       "\t\\hline\n",
       "\t& Int64 & Int64 & Int64 & Float64?\\\\\n",
       "\t\\hline\n",
       "\t1 & 1941 & 9 & 1 & 28.3 \\\\\n",
       "\t2 & 1941 & 9 & 2 & 21.7 \\\\\n",
       "\t3 & 1941 & 9 & 3 & 26.1 \\\\\n",
       "\t4 & 1941 & 9 & 4 & 27.8 \\\\\n",
       "\t5 & 1941 & 9 & 5 & 20.6 \\\\\n",
       "\t6 & 1941 & 9 & 6 & 27.2 \\\\\n",
       "\t7 & 1941 & 9 & 7 & 23.3 \\\\\n",
       "\t8 & 1941 & 9 & 8 & 16.1 \\\\\n",
       "\t9 & 1941 & 9 & 9 & 17.8 \\\\\n",
       "\t10 & 1941 & 9 & 10 & 28.3 \\\\\n",
       "\t11 & 1941 & 9 & 11 & 19.4 \\\\\n",
       "\t12 & 1941 & 9 & 12 & 17.2 \\\\\n",
       "\t13 & 1941 & 9 & 13 & 15.6 \\\\\n",
       "\t14 & 1941 & 9 & 14 & 24.4 \\\\\n",
       "\t15 & 1941 & 9 & 15 & 27.8 \\\\\n",
       "\t16 & 1941 & 9 & 16 & 26.1 \\\\\n",
       "\t17 & 1941 & 9 & 17 & 25.0 \\\\\n",
       "\t18 & 1941 & 9 & 18 & 20.6 \\\\\n",
       "\t19 & 1941 & 9 & 19 & 16.1 \\\\\n",
       "\t20 & 1941 & 9 & 20 & 23.9 \\\\\n",
       "\t21 & 1941 & 9 & 21 & 27.2 \\\\\n",
       "\t22 & 1941 & 9 & 22 & 27.8 \\\\\n",
       "\t23 & 1941 & 9 & 23 & 20.6 \\\\\n",
       "\t24 & 1941 & 9 & 24 & 21.7 \\\\\n",
       "\t25 & 1941 & 9 & 25 & 25.6 \\\\\n",
       "\t26 & 1941 & 9 & 26 & 17.2 \\\\\n",
       "\t27 & 1941 & 9 & 27 & 18.3 \\\\\n",
       "\t28 & 1941 & 9 & 28 & 25.6 \\\\\n",
       "\t29 & 1941 & 9 & 29 & 11.7 \\\\\n",
       "\t30 & 1941 & 9 & 30 & 15.0 \\\\\n",
       "\t$\\dots$ & $\\dots$ & $\\dots$ & $\\dots$ & $\\dots$ \\\\\n",
       "\\end{tabular}\n"
      ],
      "text/plain": [
       "\u001b[1m26057×4 DataFrame\u001b[0m\n",
       "\u001b[1m   Row \u001b[0m│\u001b[1m LOCAL_YEAR \u001b[0m\u001b[1m LOCAL_MONTH \u001b[0m\u001b[1m LOCAL_DAY \u001b[0m\u001b[1m MAX_TEMPERATURE \u001b[0m\n",
       "       │\u001b[90m Int64      \u001b[0m\u001b[90m Int64       \u001b[0m\u001b[90m Int64     \u001b[0m\u001b[90m Float64?        \u001b[0m\n",
       "───────┼─────────────────────────────────────────────────────\n",
       "     1 │       1941            9          1             28.3\n",
       "     2 │       1941            9          2             21.7\n",
       "     3 │       1941            9          3             26.1\n",
       "     4 │       1941            9          4             27.8\n",
       "     5 │       1941            9          5             20.6\n",
       "     6 │       1941            9          6             27.2\n",
       "     7 │       1941            9          7             23.3\n",
       "     8 │       1941            9          8             16.1\n",
       "     9 │       1941            9          9             17.8\n",
       "    10 │       1941            9         10             28.3\n",
       "    11 │       1941            9         11             19.4\n",
       "   ⋮   │     ⋮            ⋮           ⋮             ⋮\n",
       " 26048 │       2013            2          4             -8.2\n",
       " 26049 │       2013            2          5             -9.1\n",
       " 26050 │       2013            2          6             -6.1\n",
       " 26051 │       2013            2          7            -15.5\n",
       " 26052 │       2013            2          8            -11.0\n",
       " 26053 │       2013            2          9             -6.9\n",
       " 26054 │       2013            2         10             -5.6\n",
       " 26055 │       2013            2         11              3.5\n",
       " 26056 │       2013            2         12              2.4\n",
       " 26057 │       2013            2         13              0.8\n",
       "\u001b[36m                                           26036 rows omitted\u001b[0m"
      ]
     },
     "execution_count": 35,
     "metadata": {},
     "output_type": "execute_result"
    }
   ],
   "source": [
    "using DataFrames\n",
    "select(data, [:LOCAL_YEAR, :LOCAL_MONTH, :LOCAL_DAY, :MAX_TEMPERATURE])"
   ]
  },
  {
   "cell_type": "markdown",
   "metadata": {},
   "source": [
    "## 2.3 Récupération des années complètes\n",
    "\n",
    "Pour que les maxima annuels aient du sens, il faut qu'ils soient pris sur l'année complète. Par exemple, on ne veut pas récupérer le maximum annuel d'une année où l'été n'a pas été enregistré. Pour la station en question, il faut retirer les années 1941 et 2013 qui sont incomplètes.\n",
    "\n",
    "Retirez du DataFrame les lignes qui correspondent aux années 1941 et 2013."
   ]
  },
  {
   "cell_type": "code",
   "execution_count": null,
   "metadata": {},
   "outputs": [],
   "source": [
    "remove()"
   ]
  },
  {
   "cell_type": "markdown",
   "metadata": {},
   "source": [
    "## 2.4 Récupération des données enregistrées\n",
    "\n",
    "Ignorez les lignes du DataFrame qui correspondent à des températures manquantes avec la fonction `dropmissing()` ou `dropmissing!()`."
   ]
  },
  {
   "cell_type": "code",
   "execution_count": null,
   "metadata": {},
   "outputs": [],
   "source": []
  },
  {
   "cell_type": "markdown",
   "metadata": {},
   "source": [
    "## 2.5.  Extraction des températures maximales annuelles\n",
    "\n",
    "Extrayez les maxima annuels de température enregistrés à Montréal. Il y a plusieurs façons de procéder. Je vous propose d'utiliser les fonctions `combine()` et `groupby()` de la librairie *DataFrame* pour manipuler aisément les données dans un DataFrame."
   ]
  },
  {
   "cell_type": "code",
   "execution_count": null,
   "metadata": {},
   "outputs": [],
   "source": []
  },
  {
   "cell_type": "markdown",
   "metadata": {},
   "source": [
    "## 2.6. Affichage des températures annuelles maximales en fonction des années.\n",
    "\n",
    "Lorsque les données à afficher sont dans un DataFrame, le traçage des graphiques est simple avec Gadfly. Il suffit de mentionner quelle colonne est le $x$ et quelle colonne est le $y$."
   ]
  },
  {
   "cell_type": "code",
   "execution_count": null,
   "metadata": {},
   "outputs": [],
   "source": []
  },
  {
   "cell_type": "code",
   "execution_count": null,
   "metadata": {},
   "outputs": [],
   "source": []
  }
 ],
 "metadata": {
  "@webio": {
   "lastCommId": null,
   "lastKernelId": null
  },
  "kernelspec": {
   "display_name": "Julia 1.10.5",
   "language": "julia",
   "name": "julia-1.10"
  },
  "language_info": {
   "file_extension": ".jl",
   "mimetype": "application/julia",
   "name": "julia",
   "version": "1.10.5"
  }
 },
 "nbformat": 4,
 "nbformat_minor": 2
}
